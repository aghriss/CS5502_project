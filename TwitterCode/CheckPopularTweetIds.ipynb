{
 "cells": [
  {
   "cell_type": "code",
   "execution_count": 15,
   "metadata": {},
   "outputs": [],
   "source": [
    "import pandas as pd\n",
    "import numpy as np"
   ]
  },
  {
   "cell_type": "code",
   "execution_count": 68,
   "metadata": {},
   "outputs": [],
   "source": [
    "def checkPopularTweetIDs(topicName):\n",
    "    df = pd.read_csv(\"data_m/\"+topicName+\".csv\")\n",
    "    df_popular = pd.read_csv(\"data_m/\"+topicName+\"_popular.csv\")\n",
    "    tweetIds_popular = df_popular['tweetId'].values\n",
    "    df['isPopular'] = np.where(df['tweetId'].isin(tweetIds_popular), 'Yes', 'No')\n",
    "    print(len(df['tweetId'].values), len(df['isPopular'].values), len(df_popular['tweetId'].values))\n",
    "    print(df['isPopular'].values)"
   ]
  },
  {
   "cell_type": "code",
   "execution_count": 66,
   "metadata": {},
   "outputs": [],
   "source": [
    "checkPopularTweetIDs(\"Thanksgiving\")"
   ]
  },
  {
   "cell_type": "code",
   "execution_count": null,
   "metadata": {},
   "outputs": [],
   "source": []
  }
 ],
 "metadata": {
  "kernelspec": {
   "display_name": "Python 3",
   "language": "python",
   "name": "python3"
  },
  "language_info": {
   "codemirror_mode": {
    "name": "ipython",
    "version": 3
   },
   "file_extension": ".py",
   "mimetype": "text/x-python",
   "name": "python",
   "nbconvert_exporter": "python",
   "pygments_lexer": "ipython3",
   "version": "3.7.3"
  }
 },
 "nbformat": 4,
 "nbformat_minor": 2
}
