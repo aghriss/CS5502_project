{
 "cells": [
  {
   "cell_type": "code",
   "execution_count": 38,
   "metadata": {},
   "outputs": [],
   "source": [
    "#packages\n",
    "import tweepy\n",
    "import json\n",
    "import importlib\n",
    "import saveData\n",
    "importlib.reload(saveData)\n",
    "from saveData import saveTweetData"
   ]
  },
  {
   "cell_type": "code",
   "execution_count": 24,
   "metadata": {},
   "outputs": [],
   "source": [
    "# Load credentials from json file\n",
    "with open(\"twitter_credentials.json\", \"r\") as file:\n",
    "    creds = json.load(file)"
   ]
  },
  {
   "cell_type": "code",
   "execution_count": 25,
   "metadata": {},
   "outputs": [],
   "source": [
    "#initiate auth object\n",
    "auth = tweepy.AppAuthHandler(creds['API_KEY'], creds['SECRET_KEY'])\n",
    "api = tweepy.API(auth)"
   ]
  },
  {
   "cell_type": "code",
   "execution_count": 26,
   "metadata": {},
   "outputs": [],
   "source": [
    "#Get tweet data by tweet_id \n",
    "#tweet = api.get_status(\"967824267948773377\", include_entities=\"true\", include_ext_alt_text=\"true\")\n",
    "#print(tweet)"
   ]
  },
  {
   "cell_type": "code",
   "execution_count": 47,
   "metadata": {},
   "outputs": [],
   "source": [
    "# print(\"Tweet Attributes:\")\n",
    "# print(\"ID:\",tweet.id)\n",
    "# print(\"tweet created at:\",tweet.created_at)\n",
    "# print(\"tweet text:\", tweet.text)\n",
    "# print(\"tweet text truncated:\", tweet.truncated)\n",
    "# print(\"tweet retweet count:\", tweet.retweet_count)\n",
    "# print(\"tweet fav. count:\", tweet.favorite_count)\n",
    "# print(\"tweet is quote:\", tweet.is_quote_status)\n",
    "# print(\"tweet source:\", tweet.source)\n",
    "# print(\"Is tweet possibly sensitive:\", tweet.possibly_sensitive)\n",
    "# print(\"tweet place:\", tweet.place)\n",
    "# print(\"tweet geo:\", tweet.geo)\n",
    "# print(\"tweet language:\", tweet.lang)\n",
    "# print(\"Is this a retweet:\", tweet.retweeted)\n",
    "# print(\"tweet contributors:\", tweet.contributors)\n",
    "# print(\"tweet coordinates:\", tweet.coordinates)\n",
    "# print(\"entities:\", tweet.entities)\n",
    "# print(\"hastags:\",tweet.entities['hashtags'])\n",
    "# print(\"users taged/ mentioned:\", tweet.entities['user_mentions'])\n",
    "# print(\"url in tweet:\", tweet.entities['urls'])\n",
    "# print(\"tweet source url\", tweet.source_url)"
   ]
  },
  {
   "cell_type": "code",
   "execution_count": null,
   "metadata": {},
   "outputs": [],
   "source": [
    "# print(\"User Attributes:\")\n",
    "# print(\"user name:\",tweet.user.name)\n",
    "# print(\"user screen name:\",tweet.user.screen_name)\n",
    "# print(\"user created at:\", tweet.user.created_at)\n",
    "# print(\"user followers count:\", tweet.user.followers_count)\n",
    "# print(\"user description:\", tweet.user.description)\n",
    "# print(\"is user verified:\", tweet.user.verified)\n",
    "# print(\"is user protected:\", tweet.user.protected)\n",
    "# print(\"user location:\", tweet.user.location)\n",
    "# print(\"user geo enabled:\", tweet.user.geo_enabled)\n",
    "# print(\"user notification:\", tweet.user.notifications)\n",
    "# print(\"user friends count:\", tweet.user.friends_count)\n",
    "# print(\"user statuses count:\", tweet.user.statuses_count)\n",
    "# print(\"user listed count:\",tweet.user.listed_count)\n",
    "# print(\"user utc offset:\", tweet.user.utc_offset)\n",
    "# print(\"user entities:\", tweet.user.entities)"
   ]
  },
  {
   "cell_type": "code",
   "execution_count": 44,
   "metadata": {},
   "outputs": [],
   "source": [
    "#Get n tweets using queryText\n",
    "def getTweetsFromTopic(query):\n",
    "    trendTweets = api.search(query, count=500)\n",
    "    count = 0\n",
    "    for tweets in trendTweets:\n",
    "        count+=1\n",
    "        saveTweetData(query, tweets.id, tweets.created_at, tweets.text, tweets.retweet_count, tweets.favorite_count, tweets.is_quote_status, tweets.place, tweets.geo, ','.join(str(v) for v in tweets.entities['hashtags']), \n",
    "                  ','.join(str(v) for v in tweets.entities['user_mentions']), tweets.source, tweets.source_url, tweets.user.id, tweets.user.name, tweets.user.screen_name, tweets.user.created_at, tweets.user.followers_count, \n",
    "                  tweets.user.description, tweets.user.verified, tweets.user.protected, tweets.user.location, tweets.user.friends_count, tweets.user.statuses_count, \n",
    "                  tweets.user.listed_count)"
   ]
  },
  {
   "cell_type": "code",
   "execution_count": 48,
   "metadata": {},
   "outputs": [],
   "source": [
    "#Get n popular tweets using queryText\n",
    "def getPopularTweetsFromTopic(query):\n",
    "    trendTweets = api.search(query, count=500, result_type=\"popular\")\n",
    "    count = 0\n",
    "    for tweets in trendTweets:\n",
    "        count+=1\n",
    "        saveTweetData(query+\"_popular\", tweets.id, tweets.created_at, tweets.text, tweets.retweet_count, tweets.favorite_count, tweets.is_quote_status, tweets.place, tweets.geo, ','.join(str(v) for v in tweets.entities['hashtags']), \n",
    "                  ','.join(str(v) for v in tweets.entities['user_mentions']), tweets.source, tweets.source_url, tweets.user.id, tweets.user.name, tweets.user.screen_name, tweets.user.created_at, tweets.user.followers_count, \n",
    "                  tweets.user.description, tweets.user.verified, tweets.user.protected, tweets.user.location, tweets.user.friends_count, tweets.user.statuses_count, \n",
    "                  tweets.user.listed_count)"
   ]
  },
  {
   "cell_type": "code",
   "execution_count": 46,
   "metadata": {},
   "outputs": [],
   "source": [
    "#Get trends of particular place\n",
    "#WOEID of USA\n",
    "woied = 23424977\n",
    "\n",
    "#Fetch trending tweet topics and fetch respective tweets\n",
    "trendArray = api.trends_place(woied)  #can add exclude = \"hashtags\" \n",
    "trendCount = 10\n",
    "for trends in trendArray:\n",
    "    for trendTopic in trends['trends']:\n",
    "        if trendTopic['tweet_volume'] is None:\n",
    "            continue\n",
    "        #print(\"Topic:\", trendTopic['name'], \"url:\", trendTopic['url'], \"tweet count:\",trendTopic['tweet_volume'], \"query\",trendTopic['query'])\n",
    "        getTweetsFromTopic(trendTopic['query'])\n",
    "        getPopularTweetsFromTopic(trendTopic['query'])\n",
    "        trendCount-=1\n",
    "        if trendCount == 0:\n",
    "            break"
   ]
  },
  {
   "cell_type": "code",
   "execution_count": null,
   "metadata": {},
   "outputs": [],
   "source": []
  }
 ],
 "metadata": {
  "kernelspec": {
   "display_name": "Python 3",
   "language": "python",
   "name": "python3"
  },
  "language_info": {
   "codemirror_mode": {
    "name": "ipython",
    "version": 3
   },
   "file_extension": ".py",
   "mimetype": "text/x-python",
   "name": "python",
   "nbconvert_exporter": "python",
   "pygments_lexer": "ipython3",
   "version": "3.7.3"
  }
 },
 "nbformat": 4,
 "nbformat_minor": 2
}
