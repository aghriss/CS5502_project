{
 "cells": [
  {
   "cell_type": "code",
   "execution_count": 1,
   "metadata": {},
   "outputs": [],
   "source": [
    "import pandas as pd\n",
    "import matplotlib.pyplot as plt\n",
    "import numpy as np"
   ]
  },
  {
   "cell_type": "code",
   "execution_count": 220,
   "metadata": {},
   "outputs": [],
   "source": [
    "df = pd.read_csv(\"merged_data.csv\",index_col=0)"
   ]
  },
  {
   "cell_type": "code",
   "execution_count": 221,
   "metadata": {},
   "outputs": [
    {
     "data": {
      "text/html": [
       "<div>\n",
       "<style scoped>\n",
       "    .dataframe tbody tr th:only-of-type {\n",
       "        vertical-align: middle;\n",
       "    }\n",
       "\n",
       "    .dataframe tbody tr th {\n",
       "        vertical-align: top;\n",
       "    }\n",
       "\n",
       "    .dataframe thead th {\n",
       "        text-align: right;\n",
       "    }\n",
       "</style>\n",
       "<table border=\"1\" class=\"dataframe\">\n",
       "  <thead>\n",
       "    <tr style=\"text-align: right;\">\n",
       "      <th></th>\n",
       "      <th>text</th>\n",
       "      <th>retweetCount</th>\n",
       "      <th>likeCount</th>\n",
       "      <th>isQuote</th>\n",
       "      <th>source</th>\n",
       "      <th>userId</th>\n",
       "      <th>userFollowersCount</th>\n",
       "      <th>userVerified</th>\n",
       "      <th>userProtected</th>\n",
       "      <th>userFriendsCount</th>\n",
       "      <th>...</th>\n",
       "      <th>feat_1</th>\n",
       "      <th>feat_2</th>\n",
       "      <th>feat_3</th>\n",
       "      <th>feat_4</th>\n",
       "      <th>flair_sentiment</th>\n",
       "      <th>flair_fast_sentiment</th>\n",
       "      <th>polarity</th>\n",
       "      <th>polarity_positive</th>\n",
       "      <th>polarity_negative</th>\n",
       "      <th>polarity_compound</th>\n",
       "    </tr>\n",
       "  </thead>\n",
       "  <tbody>\n",
       "    <tr>\n",
       "      <th>0</th>\n",
       "      <td>.... annnnd now he loses 5th Amendment protect...</td>\n",
       "      <td>2999</td>\n",
       "      <td>0</td>\n",
       "      <td>True</td>\n",
       "      <td>WEB</td>\n",
       "      <td>800762241825980416</td>\n",
       "      <td>243</td>\n",
       "      <td>False</td>\n",
       "      <td>False</td>\n",
       "      <td>561</td>\n",
       "      <td>...</td>\n",
       "      <td>0.003181</td>\n",
       "      <td>0.005748</td>\n",
       "      <td>0.007677</td>\n",
       "      <td>0.008153</td>\n",
       "      <td>-0.992080</td>\n",
       "      <td>-0.838077</td>\n",
       "      <td>-0.30</td>\n",
       "      <td>0.049</td>\n",
       "      <td>0.094</td>\n",
       "      <td>-0.2732</td>\n",
       "    </tr>\n",
       "    <tr>\n",
       "      <th>1</th>\n",
       "      <td>BREAKING : As the Supreme Court long ago estab...</td>\n",
       "      <td>1639</td>\n",
       "      <td>0</td>\n",
       "      <td>False</td>\n",
       "      <td>IPHONE</td>\n",
       "      <td>628818151</td>\n",
       "      <td>2881</td>\n",
       "      <td>False</td>\n",
       "      <td>False</td>\n",
       "      <td>2726</td>\n",
       "      <td>...</td>\n",
       "      <td>0.001578</td>\n",
       "      <td>0.001716</td>\n",
       "      <td>0.001954</td>\n",
       "      <td>0.002116</td>\n",
       "      <td>0.753376</td>\n",
       "      <td>0.752001</td>\n",
       "      <td>-0.05</td>\n",
       "      <td>0.216</td>\n",
       "      <td>0.074</td>\n",
       "      <td>0.4588</td>\n",
       "    </tr>\n",
       "    <tr>\n",
       "      <th>2</th>\n",
       "      <td>On General Michael Flynn ' s pardon As Trump p...</td>\n",
       "      <td>1045</td>\n",
       "      <td>0</td>\n",
       "      <td>False</td>\n",
       "      <td>IPHONE</td>\n",
       "      <td>1018697824282656768</td>\n",
       "      <td>10893</td>\n",
       "      <td>False</td>\n",
       "      <td>False</td>\n",
       "      <td>11596</td>\n",
       "      <td>...</td>\n",
       "      <td>0.000726</td>\n",
       "      <td>0.001803</td>\n",
       "      <td>0.003193</td>\n",
       "      <td>0.003481</td>\n",
       "      <td>-0.943736</td>\n",
       "      <td>0.657989</td>\n",
       "      <td>0.15</td>\n",
       "      <td>0.228</td>\n",
       "      <td>0.149</td>\n",
       "      <td>0.3182</td>\n",
       "    </tr>\n",
       "    <tr>\n",
       "      <th>3</th>\n",
       "      <td>Now correct me if I am wrong , but does not Mi...</td>\n",
       "      <td>264</td>\n",
       "      <td>0</td>\n",
       "      <td>False</td>\n",
       "      <td>ANDROID</td>\n",
       "      <td>790033182011695105</td>\n",
       "      <td>1871</td>\n",
       "      <td>False</td>\n",
       "      <td>False</td>\n",
       "      <td>4178</td>\n",
       "      <td>...</td>\n",
       "      <td>0.000726</td>\n",
       "      <td>0.001403</td>\n",
       "      <td>0.003557</td>\n",
       "      <td>0.005748</td>\n",
       "      <td>0.607614</td>\n",
       "      <td>-0.984295</td>\n",
       "      <td>-0.50</td>\n",
       "      <td>0.100</td>\n",
       "      <td>0.169</td>\n",
       "      <td>-0.2413</td>\n",
       "    </tr>\n",
       "    <tr>\n",
       "      <th>4</th>\n",
       "      <td>.... but now Flynn loses 5th Amendment protect...</td>\n",
       "      <td>0</td>\n",
       "      <td>0</td>\n",
       "      <td>False</td>\n",
       "      <td>IPHONE</td>\n",
       "      <td>1317539640170049536</td>\n",
       "      <td>22</td>\n",
       "      <td>False</td>\n",
       "      <td>False</td>\n",
       "      <td>102</td>\n",
       "      <td>...</td>\n",
       "      <td>0.003181</td>\n",
       "      <td>0.005748</td>\n",
       "      <td>0.007677</td>\n",
       "      <td>0.008153</td>\n",
       "      <td>-0.960922</td>\n",
       "      <td>-0.772128</td>\n",
       "      <td>-0.30</td>\n",
       "      <td>0.061</td>\n",
       "      <td>0.139</td>\n",
       "      <td>-0.3919</td>\n",
       "    </tr>\n",
       "  </tbody>\n",
       "</table>\n",
       "<p>5 rows × 25 columns</p>\n",
       "</div>"
      ],
      "text/plain": [
       "                                                text  retweetCount  likeCount  \\\n",
       "0  .... annnnd now he loses 5th Amendment protect...          2999          0   \n",
       "1  BREAKING : As the Supreme Court long ago estab...          1639          0   \n",
       "2  On General Michael Flynn ' s pardon As Trump p...          1045          0   \n",
       "3  Now correct me if I am wrong , but does not Mi...           264          0   \n",
       "4  .... but now Flynn loses 5th Amendment protect...             0          0   \n",
       "\n",
       "   isQuote   source               userId  userFollowersCount  userVerified  \\\n",
       "0     True      WEB   800762241825980416                 243         False   \n",
       "1    False   IPHONE            628818151                2881         False   \n",
       "2    False   IPHONE  1018697824282656768               10893         False   \n",
       "3    False  ANDROID   790033182011695105                1871         False   \n",
       "4    False   IPHONE  1317539640170049536                  22         False   \n",
       "\n",
       "   userProtected  userFriendsCount  ...    feat_1    feat_2    feat_3  \\\n",
       "0          False               561  ...  0.003181  0.005748  0.007677   \n",
       "1          False              2726  ...  0.001578  0.001716  0.001954   \n",
       "2          False             11596  ...  0.000726  0.001803  0.003193   \n",
       "3          False              4178  ...  0.000726  0.001403  0.003557   \n",
       "4          False               102  ...  0.003181  0.005748  0.007677   \n",
       "\n",
       "     feat_4  flair_sentiment  flair_fast_sentiment  polarity  \\\n",
       "0  0.008153        -0.992080             -0.838077     -0.30   \n",
       "1  0.002116         0.753376              0.752001     -0.05   \n",
       "2  0.003481        -0.943736              0.657989      0.15   \n",
       "3  0.005748         0.607614             -0.984295     -0.50   \n",
       "4  0.008153        -0.960922             -0.772128     -0.30   \n",
       "\n",
       "   polarity_positive  polarity_negative  polarity_compound  \n",
       "0              0.049              0.094            -0.2732  \n",
       "1              0.216              0.074             0.4588  \n",
       "2              0.228              0.149             0.3182  \n",
       "3              0.100              0.169            -0.2413  \n",
       "4              0.061              0.139            -0.3919  \n",
       "\n",
       "[5 rows x 25 columns]"
      ]
     },
     "execution_count": 221,
     "metadata": {},
     "output_type": "execute_result"
    }
   ],
   "source": [
    "df.head()"
   ]
  },
  {
   "cell_type": "code",
   "execution_count": 222,
   "metadata": {},
   "outputs": [],
   "source": []
  },
  {
   "cell_type": "code",
   "execution_count": 223,
   "metadata": {},
   "outputs": [],
   "source": []
  },
  {
   "cell_type": "code",
   "execution_count": 224,
   "metadata": {},
   "outputs": [],
   "source": [
    "df = df.iloc[indices]"
   ]
  },
  {
   "cell_type": "code",
   "execution_count": 225,
   "metadata": {},
   "outputs": [
    {
     "data": {
      "text/plain": [
       "Index(['text', 'retweetCount', 'likeCount', 'isQuote', 'source', 'userId',\n",
       "       'userFollowersCount', 'userVerified', 'userProtected',\n",
       "       'userFriendsCount', 'userStatusesCount', 'userListedCount',\n",
       "       'userOnTwitter(Months)', 'trending', 'feat_0', 'feat_1', 'feat_2',\n",
       "       'feat_3', 'feat_4', 'flair_sentiment', 'flair_fast_sentiment',\n",
       "       'polarity', 'polarity_positive', 'polarity_negative',\n",
       "       'polarity_compound'],\n",
       "      dtype='object')"
      ]
     },
     "execution_count": 225,
     "metadata": {},
     "output_type": "execute_result"
    }
   ],
   "source": [
    "df.columns"
   ]
  },
  {
   "cell_type": "code",
   "execution_count": 226,
   "metadata": {},
   "outputs": [],
   "source": [
    "df.source = df.source.map({\"UNKNOWN\":0,\"ANDROID\":1,\"IPHONE\":2,\"WEB\":3})"
   ]
  },
  {
   "cell_type": "code",
   "execution_count": 227,
   "metadata": {},
   "outputs": [],
   "source": [
    "df.drop(['text', 'userId'],axis=1, inplace=True)"
   ]
  },
  {
   "cell_type": "code",
   "execution_count": 228,
   "metadata": {},
   "outputs": [],
   "source": [
    "df = df*1.0"
   ]
  },
  {
   "cell_type": "code",
   "execution_count": 229,
   "metadata": {},
   "outputs": [
    {
     "data": {
      "text/plain": [
       "Index(['retweetCount', 'likeCount', 'isQuote', 'source', 'userFollowersCount',\n",
       "       'userVerified', 'userProtected', 'userFriendsCount',\n",
       "       'userStatusesCount', 'userListedCount', 'userOnTwitter(Months)',\n",
       "       'trending', 'feat_0', 'feat_1', 'feat_2', 'feat_3', 'feat_4',\n",
       "       'flair_sentiment', 'flair_fast_sentiment', 'polarity',\n",
       "       'polarity_positive', 'polarity_negative', 'polarity_compound'],\n",
       "      dtype='object')"
      ]
     },
     "execution_count": 229,
     "metadata": {},
     "output_type": "execute_result"
    }
   ],
   "source": [
    "df.columns"
   ]
  },
  {
   "cell_type": "code",
   "execution_count": 230,
   "metadata": {},
   "outputs": [],
   "source": [
    "train_attrb = [\n",
    "        'isQuote',\n",
    "    'source',\n",
    "    'userFollowersCount',\n",
    "       #'userVerified', \n",
    "        #'userProtected',\n",
    "    'userFriendsCount',\n",
    "    'userStatusesCount', \n",
    "    'userListedCount', \n",
    "    'userOnTwitter(Months)',\n",
    "    'feat_0', 'feat_1', 'feat_2', 'feat_3', 'feat_4',\n",
    "    'flair_sentiment', 'flair_fast_sentiment', 'polarity',\n",
    "    'polarity_positive', 'polarity_negative', 'polarity_compound']\n",
    "target_attrb = ['retweetCount', 'likeCount','trending']"
   ]
  },
  {
   "cell_type": "code",
   "execution_count": 231,
   "metadata": {},
   "outputs": [],
   "source": [
    "from sklearn.linear_model import LogisticRegression\n",
    "from sklearn.preprocessing import StandardScaler\n",
    "from sklearn.model_selection import train_test_split"
   ]
  },
  {
   "cell_type": "code",
   "execution_count": 232,
   "metadata": {},
   "outputs": [
    {
     "data": {
      "text/plain": [
       "Index(['isQuote', 'source', 'userFollowersCount', 'userFriendsCount',\n",
       "       'userStatusesCount', 'userListedCount', 'userOnTwitter(Months)',\n",
       "       'feat_0', 'feat_1', 'feat_2', 'feat_3', 'feat_4', 'flair_sentiment',\n",
       "       'flair_fast_sentiment', 'polarity', 'polarity_positive',\n",
       "       'polarity_negative', 'polarity_compound'],\n",
       "      dtype='object')"
      ]
     },
     "execution_count": 232,
     "metadata": {},
     "output_type": "execute_result"
    }
   ],
   "source": [
    "logreg = LogisticRegression()\n",
    "scaler = StandardScaler()\n",
    "df[train_attrb].columns"
   ]
  },
  {
   "cell_type": "code",
   "execution_count": 233,
   "metadata": {},
   "outputs": [],
   "source": [
    "train_x = scaler.fit_transform(df[train_attrb])\n"
   ]
  },
  {
   "cell_type": "code",
   "execution_count": 234,
   "metadata": {},
   "outputs": [],
   "source": [
    "X_train, X_test, y_train, y_test = train_test_split(train_x, df.trending,\n",
    "                                                    test_size=0.33, random_state=42)"
   ]
  },
  {
   "cell_type": "code",
   "execution_count": 235,
   "metadata": {},
   "outputs": [
    {
     "name": "stdout",
     "output_type": "stream",
     "text": [
      "0.8527227722772277\n"
     ]
    }
   ],
   "source": [
    "logreg.fit(X_train,y_train)\n",
    "print(logreg.score(X_test,y_test))"
   ]
  },
  {
   "cell_type": "code",
   "execution_count": 236,
   "metadata": {},
   "outputs": [
    {
     "data": {
      "text/plain": [
       "0.8527227722772277"
      ]
     },
     "execution_count": 236,
     "metadata": {},
     "output_type": "execute_result"
    }
   ],
   "source": [
    "logreg.score(X_test,y_test)"
   ]
  },
  {
   "cell_type": "code",
   "execution_count": 237,
   "metadata": {},
   "outputs": [],
   "source": [
    "from sklearn.metrics import roc_auc_score"
   ]
  },
  {
   "cell_type": "code",
   "execution_count": 238,
   "metadata": {},
   "outputs": [],
   "source": [
    "y_proba = logreg.predict_proba(X_test)"
   ]
  },
  {
   "cell_type": "code",
   "execution_count": 239,
   "metadata": {},
   "outputs": [
    {
     "data": {
      "text/plain": [
       "0.9209926470588237"
      ]
     },
     "execution_count": 239,
     "metadata": {},
     "output_type": "execute_result"
    }
   ],
   "source": [
    "roc_auc_score(np.eye(2)[np.array(y_test).astype(int)],y_proba)"
   ]
  },
  {
   "cell_type": "code",
   "execution_count": 240,
   "metadata": {},
   "outputs": [
    {
     "data": {
      "text/plain": [
       "(array([1.158e+03, 0.000e+00, 4.500e+01, 8.000e+00, 6.000e+00, 4.000e+00,\n",
       "        1.000e+00, 3.000e+00, 5.000e+00, 1.100e+01, 8.000e+00, 9.000e+00,\n",
       "        2.000e+01, 3.200e+01, 3.000e+01, 4.000e+01, 4.200e+01, 5.500e+01,\n",
       "        5.500e+01, 7.200e+01, 8.000e+01, 7.900e+01, 7.900e+01, 8.500e+01,\n",
       "        8.800e+01, 8.000e+01, 6.200e+01, 7.300e+01, 6.900e+01, 3.900e+01,\n",
       "        3.000e+01, 3.000e+01, 1.000e+01, 1.100e+01, 9.000e+00, 9.000e+00,\n",
       "        2.000e+00, 7.000e+00, 0.000e+00, 2.000e+00]),\n",
       " array([0.        , 0.14502226, 0.29004451, 0.43506677, 0.58008902,\n",
       "        0.72511128, 0.87013353, 1.01515579, 1.16017804, 1.3052003 ,\n",
       "        1.45022255, 1.59524481, 1.74026706, 1.88528932, 2.03031157,\n",
       "        2.17533383, 2.32035608, 2.46537834, 2.6104006 , 2.75542285,\n",
       "        2.90044511, 3.04546736, 3.19048962, 3.33551187, 3.48053413,\n",
       "        3.62555638, 3.77057864, 3.91560089, 4.06062315, 4.2056454 ,\n",
       "        4.35066766, 4.49568991, 4.64071217, 4.78573442, 4.93075668,\n",
       "        5.07577894, 5.22080119, 5.36582345, 5.5108457 , 5.65586796,\n",
       "        5.80089021]),\n",
       " <a list of 40 Patch objects>)"
      ]
     },
     "execution_count": 240,
     "metadata": {},
     "output_type": "execute_result"
    },
    {
     "data": {
      "image/png": "[encoded data removed]",
      "text/plain": [
       "<Figure size 432x288 with 1 Axes>"
      ]
     },
     "metadata": {
      "needs_background": "light"
     },
     "output_type": "display_data"
    }
   ],
   "source": [
    "plt.hist(np.log10(1+df.likeCount),bins=40)"
   ]
  },
  {
   "cell_type": "code",
   "execution_count": 241,
   "metadata": {},
   "outputs": [
    {
     "data": {
      "text/plain": [
       "(array([1224.,    0.,    0.,    0.,    0.,    0.,    0.,    0.,    0.,\n",
       "        1224.]),\n",
       " array([0. , 0.1, 0.2, 0.3, 0.4, 0.5, 0.6, 0.7, 0.8, 0.9, 1. ]),\n",
       " <a list of 10 Patch objects>)"
      ]
     },
     "execution_count": 241,
     "metadata": {},
     "output_type": "execute_result"
    },
    {
     "data": {
      "image/png": "[encoded data removed]",
      "text/plain": [
       "<Figure size 432x288 with 1 Axes>"
      ]
     },
     "metadata": {
      "needs_background": "light"
     },
     "output_type": "display_data"
    }
   ],
   "source": [
    "plt.hist(df.trending)"
   ]
  },
  {
   "cell_type": "code",
   "execution_count": 242,
   "metadata": {},
   "outputs": [],
   "source": [
    "from sklearn.metrics import f1_score\n",
    "y_test_pred = logreg.predict(X_test)\n"
   ]
  },
  {
   "cell_type": "code",
   "execution_count": 243,
   "metadata": {},
   "outputs": [
    {
     "data": {
      "text/plain": [
       "0.8444444444444444"
      ]
     },
     "execution_count": 243,
     "metadata": {},
     "output_type": "execute_result"
    }
   ],
   "source": [
    "f1_score(y_test, y_test_pred)"
   ]
  },
  {
   "cell_type": "code",
   "execution_count": 202,
   "metadata": {},
   "outputs": [
    {
     "data": {
      "text/plain": [
       "<matplotlib.collections.PathCollection at 0x7fcd479a6970>"
      ]
     },
     "execution_count": 202,
     "metadata": {},
     "output_type": "execute_result"
    },
    {
     "data": {
      "image/png": "[encoded data removed]",
      "text/plain": [
       "<Figure size 432x288 with 1 Axes>"
      ]
     },
     "metadata": {
      "needs_background": "light"
     },
     "output_type": "display_data"
    }
   ],
   "source": [
    "plt.scatter(df.likeCount, df.retweetCount, c=df.trending)"
   ]
  },
  {
   "cell_type": "code",
   "execution_count": null,
   "metadata": {},
   "outputs": [],
   "source": []
  }
 ],
 "metadata": {
  "kernelspec": {
   "display_name": "Python 3",
   "language": "python",
   "name": "python3"
  },
  "language_info": {
   "codemirror_mode": {
    "name": "ipython",
    "version": 3
   },
   "file_extension": ".py",
   "mimetype": "text/x-python",
   "name": "python",
   "nbconvert_exporter": "python",
   "pygments_lexer": "ipython3",
   "version": "3.8.6"
  }
 },
 "nbformat": 4,
 "nbformat_minor": 4
}
