{
 "cells": [
  {
   "cell_type": "code",
   "execution_count": 3,
   "metadata": {},
   "outputs": [],
   "source": [
    "#packages\n",
    "import pandas as pd\n",
    "import os.path\n",
    "import csv"
   ]
  },
  {
   "cell_type": "code",
   "execution_count": 8,
   "metadata": {},
   "outputs": [],
   "source": [
    "#Saving tweet data in csv\n",
    "def saveTweetData(topicName, tweetId, createdAt, text, retweetCount, likeCount, isQuote, place, geo, hashtags, \n",
    "                  userMentions, source, sourceUrl, userId, userName, userScreenName, userCreatedAt, userFollowersCount, \n",
    "                  userDescription, userVerified,userProtected, userLocation, userFriendsCount, userStatusesCount, \n",
    "                  userListedCount, rawData):\n",
    "    fileName = \"data/\"+topicName+\".csv\"\n",
    "    if (os.path.isfile(fileName)):\n",
    "        #print(\"filename\", fileName, \"again\")\n",
    "        with open(fileName, 'a', encoding='UTF-8') as csvFile:\n",
    "            writer = csv.writer(csvFile)\n",
    "            writer.writerow([\"\", tweetId, createdAt, text, retweetCount, likeCount, isQuote, place, geo, hashtags, \n",
    "                  userMentions, source, sourceUrl, userId, userName, userScreenName, userCreatedAt, userFollowersCount, \n",
    "                  userDescription, userVerified,userProtected, userLocation, userFriendsCount, userStatusesCount, \n",
    "                  userListedCount, rawData])\n",
    "    else :\n",
    "        tweetDict = {'tweetId':tweetId, 'createdAt':createdAt, 'text':text, 'retweetCount':retweetCount, 'likeCount':likeCount, 'isQuote':isQuote, \n",
    "                  'place':place, 'hashtags':hashtags, 'userMentions':userMentions, 'source':source,'sourceUrl':sourceUrl, \n",
    "                 'userId':userId, 'userName':userName, 'userScreenName':userScreenName, 'userCreatedAt':userCreatedAt, 'userFollowersCount':userFollowersCount, \n",
    "                 'userDescription':userDescription, 'userVerified':userVerified,'userProtected':userProtected, 'userLocation':userLocation, \n",
    "                 'userFriendsCount':userFriendsCount, 'userStatusesCount':userStatusesCount, 'userListedCount':userListedCount, 'rawData':rawData}\n",
    "        tweetDf = pd.DataFrame(tweetDict, index=[0])\n",
    "        tweetDf.to_csv(fileName)"
   ]
  },
  {
   "cell_type": "code",
   "execution_count": null,
   "metadata": {},
   "outputs": [],
   "source": []
  }
 ],
 "metadata": {
  "kernelspec": {
   "display_name": "Python 3",
   "language": "python",
   "name": "python3"
  },
  "language_info": {
   "codemirror_mode": {
    "name": "ipython",
    "version": 3
   },
   "file_extension": ".py",
   "mimetype": "text/x-python",
   "name": "python",
   "nbconvert_exporter": "python",
   "pygments_lexer": "ipython3",
   "version": "3.7.3"
  }
 },
 "nbformat": 4,
 "nbformat_minor": 2
}
