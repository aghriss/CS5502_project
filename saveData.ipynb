{
 "cells": [
  {
   "cell_type": "code",
   "execution_count": 1,
   "metadata": {},
   "outputs": [],
   "source": [
    "#packages\n",
    "import pandas as pd"
   ]
  },
  {
   "cell_type": "code",
   "execution_count": 1,
   "metadata": {},
   "outputs": [],
   "source": [
    "#Saving tweet data in csv\n",
    "#TODO:need to change the function args\n",
    "def saveTweetData(tweetIds, userIds, retweets, likes, replies, shares, isPinned, quotes, text, hashtags, hashLinks, hasMedia, dateTime, location, deviceInfo, isThread, threads):\n",
    "    #tweet attributes dict\n",
    "    tweetDict = {'tweetId':tweetIds, 'userId':userIds, 'retweet':retweets, 'likes':likes, 'replies':replies, 'shares':shares, 'isPinned':isPinned, 'quotes':quotes, 'text':text, 'hashtags':hashtags, 'hasLinks':hashLinks, 'hasMedia':hasMedia, 'dateTime':dateTime, 'location':location, 'deviceInfo':deviceInfo, 'isThread':isThread, 'threads':threads}\n",
    "    \n",
    "    tweetDf = pd.DataFrame(tweetDict)\n",
    "    \n",
    "    tweetDf.to_csv('tweet_data.csv')"
   ]
  },
  {
   "cell_type": "code",
   "execution_count": 2,
   "metadata": {},
   "outputs": [],
   "source": [
    "#Saving user data in csv\n",
    "#TODO:need to change the function args\n",
    "def saveUserData(userIds, names, frequency, followers, following, isVerfied, creationDates, tweets, location):\n",
    "    #user attributes dict\n",
    "    userDict = {'userId':userIds, 'name':names,'frequency':frequency, 'followers':followers, 'following':following, 'isVerified':isVerfied, 'creationDate':creationDates, 'tweets':tweets, 'location':location}\n",
    "    \n",
    "    userDF = pd.DataFrame(userDict)\n",
    "    \n",
    "    userDF.to_csv('user_data.csv')"
   ]
  },
  {
   "cell_type": "code",
   "execution_count": null,
   "metadata": {},
   "outputs": [],
   "source": []
  }
 ],
 "metadata": {
  "kernelspec": {
   "display_name": "Python 3",
   "language": "python",
   "name": "python3"
  },
  "language_info": {
   "codemirror_mode": {
    "name": "ipython",
    "version": 3
   },
   "file_extension": ".py",
   "mimetype": "text/x-python",
   "name": "python",
   "nbconvert_exporter": "python",
   "pygments_lexer": "ipython3",
   "version": "3.7.3"
  }
 },
 "nbformat": 4,
 "nbformat_minor": 2
}
