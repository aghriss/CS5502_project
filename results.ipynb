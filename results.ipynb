{
 "cells": [
  {
   "cell_type": "code",
   "execution_count": 1,
   "metadata": {
    "id": "C7MU4Z8zBDeD"
   },
   "outputs": [],
   "source": [
    "import pandas as pd\n",
    "import matplotlib.pyplot as plt\n",
    "import numpy as np"
   ]
  },
  {
   "cell_type": "code",
   "execution_count": 2,
   "metadata": {
    "id": "kQdQuuHNBWq2"
   },
   "outputs": [],
   "source": [
    "df = pd.read_csv(\"./data/merged_data.csv\",index_col=0)"
   ]
  },
  {
   "cell_type": "markdown",
   "metadata": {
    "id": "nqo6NwU5O42b"
   },
   "source": [
    "# Part 1: Data Analysis\n",
    "## FP Growth Algorithm"
   ]
  },
  {
   "cell_type": "code",
   "execution_count": 3,
   "metadata": {
    "colab": {
     "base_uri": "https://localhost:8080/"
    },
    "id": "SBqu872eL7TF",
    "outputId": "7443c8a3-8373-47e9-b5df-b96953a4927c"
   },
   "outputs": [
    {
     "name": "stderr",
     "output_type": "stream",
     "text": [
      "[nltk_data] Downloading package punkt to /home/aghriss/nltk_data...\n",
      "[nltk_data]   Package punkt is already up-to-date!\n"
     ]
    }
   ],
   "source": [
    "# We start with the association rules\n",
    "!pip install nltk pyfpgrowth scipy sklearn --quiet\n",
    "import pyfpgrowth\n",
    "import string\n",
    "import nltk\n",
    "from nltk import word_tokenize\n",
    "nltk.download('punkt')\n",
    "import numpy as np\n",
    "from nltk.util import ngrams\n",
    "from collections import Counter\n",
    "printable = set(string.printable)\n",
    "punct = '''!()-[]{};:'\"\\, <>./?@#क$%^&*_~…'ी'ा1234567890'''\n",
    "words = [\"and\", \"the\", \"to\", \"i\", \"with\", \"my\", \"is\", \"of\", \"it\", \"i\", \"be\", \"l\", \"ar\", \"ra\", \"you\", \"de\", 'this', 'naughty', 'he',\n",
    "         'th','for','in', 'on','la','he','was','but','will','we','but','a','so','no','list',\n",
    "             'st', 'com'] + [\" \"+c+\" \" for c in \"0123456789abcdefghijklmnopqrstuvwxyz\"]"
   ]
  },
  {
   "cell_type": "code",
   "execution_count": 4,
   "metadata": {
    "id": "EtG2wABIMKsE"
   },
   "outputs": [],
   "source": [
    "# Function for text cleaning\n",
    "def unicode(text): return \"\".join([t for t in text if t in printable])\n",
    "def remove_punct(text):\n",
    "    punct = '''!()-[]{};:'\"\\, <>./?@#क$%^&*_~…'ी'ा1234567890'''\n",
    "    for p in punct:\n",
    "        text = text.replace(p,\" \")\n",
    "    return text.replace(\"  \",\" \").lower()\n",
    "def remove_easy_words(text):\n",
    "    for w in words:\n",
    "        text = text.replace(w,\" \")\n",
    "    return text"
   ]
  },
  {
   "cell_type": "code",
   "execution_count": 5,
   "metadata": {
    "id": "OmpUz9WPMxZI"
   },
   "outputs": [],
   "source": [
    "# Replace nan values with string (empty cells are considered flaots)\n",
    "df.text = df.text.fillna(\"\")\n",
    "df.text = df.text.map(unicode)\n",
    "df.text = df.text.map(remove_punct)\n",
    "text = \"\\n\".join(list(df.text)) # merge all tweets\n",
    "text = text.replace('''!()-[]{};:'\"\\, <>./?@#$%^&*_~''', \" \") # remove punctuation\n",
    "\n",
    "# Getting unigrams with frequencies\n",
    "tokens = nltk.word_tokenize(text)\n",
    "tokens = list(filter(lambda x : x.lower() not in words, tokens))\n",
    "unigrams = dict(nltk.FreqDist((ngrams(tokens,1))))\n",
    "unigrams_frequency = list(unigrams.items())\n",
    "unigrams_frequency.sort(key=lambda x: -x[1])\n",
    "unigram_2_index = {v[0]:k for k,v in enumerate(unigrams_frequency)}\n",
    "index_2_unigram = {k:v[0] for k,v in enumerate(unigrams_frequency)}\n",
    "\n"
   ]
  },
  {
   "cell_type": "code",
   "execution_count": 6,
   "metadata": {
    "colab": {
     "base_uri": "https://localhost:8080/"
    },
    "id": "59EymIIdM2RV",
    "outputId": "d8c91609-1ed0-468b-a4ff-93e7954339fa"
   },
   "outputs": [
    {
     "name": "stdout",
     "output_type": "stream",
     "text": [
      "TOP 5 association rules for label 0\n",
      "\t([('joy',), ('joy',), ('joy',)], ((1,), 4.7976190476190474))\n",
      "\t([('selector',), ('selector',), ('red',)], ((21,), 2.9622641509433962))\n",
      "\t([('crying',), ('crying',), ('loudly',)], ((1,), 2.830769230769231))\n",
      "\t([('heart',), ('heart',), ('red',)], ((38,), 2.7758620689655173))\n",
      "\t([('face',), ('face',), ('loudly',)], ((77,), 2.7246376811594204))\n"
     ]
    }
   ],
   "source": [
    "# Choose label to get association rules for\n",
    "LABEL = 0\n",
    "# Getting unigrams from tweets for LABEL\n",
    "tweets = list(df.text.fillna(\"\")[df.trending==LABEL])\n",
    "\n",
    "# Covnerts tweet text to item-set of unigrams\n",
    "def text_to_items(text):\n",
    "    text = text.replace('''!()-[]{};:'\"\\, <>./?@#$%^&*_~''', \" \")\n",
    "    tokens = list(ngrams(nltk.word_tokenize(text),1))\n",
    "    items = [unigram_2_index[t] for t in tokens if t in unigram_2_index]\n",
    "    return sorted(items)[:min(10,len(items))]\n",
    "\n",
    "# set of tweets as item-sets\n",
    "result = list(map(text_to_items, tweets))\n",
    "\n",
    "# Using FP growth algorithm to find patterns and association rules\n",
    "patterns = pyfpgrowth.find_frequent_patterns(result, 50)\n",
    "rules = pyfpgrowth.generate_association_rules(patterns, 0.5)\n",
    "# we reverse the rules from integers to words\n",
    "def reverse_rule(rule):\n",
    "    return [index_2_unigram[r] for r in rule]\n",
    "reverse = [(reverse_rule(r),rules[r]) for r in rules]\n",
    "#print top 5 association rules\n",
    "print(\"TOP 5 association rules for label %i\"%LABEL, end=\"\\n\\t\")\n",
    "print(\"\\n\\t\".join( [ str(l) for l in list(sorted(reverse, key=lambda x: -x[1][1]))[:5]]))"
   ]
  },
  {
   "cell_type": "markdown",
   "metadata": {
    "id": "hsaMcrICPnbf"
   },
   "source": [
    "## Attribute Distribution"
   ]
  },
  {
   "cell_type": "code",
   "execution_count": 7,
   "metadata": {
    "id": "phK9Bsi2P5CL"
   },
   "outputs": [],
   "source": [
    "import matplotlib\n",
    "import scipy.stats"
   ]
  },
  {
   "cell_type": "code",
   "execution_count": 8,
   "metadata": {
    "colab": {
     "base_uri": "https://localhost:8080/",
     "height": 671
    },
    "id": "6DEL7KBePzMu",
    "outputId": "250b8f9d-cc1f-4bc8-feb7-9bb506bebf20"
   },
   "outputs": [
    {
     "data": {
      "text/plain": [
       "<matplotlib.legend.Legend at 0x7f56e35aac40>"
      ]
     },
     "execution_count": 8,
     "metadata": {},
     "output_type": "execute_result"
    },
    {
     "name": "stderr",
     "output_type": "stream",
     "text": [
      "findfont: Font family ['normal'] not found. Falling back to DejaVu Sans.\n",
      "findfont: Font family ['normal'] not found. Falling back to DejaVu Sans.\n",
      "findfont: Font family ['normal'] not found. Falling back to DejaVu Sans.\n"
     ]
    },
    {
     "data": {
      "image/png": "[encoded data removed]",
      "text/plain": [
       "<Figure size 1440x720 with 1 Axes>"
      ]
     },
     "metadata": {
      "needs_background": "light"
     },
     "output_type": "display_data"
    }
   ],
   "source": [
    "\n",
    "font = {'family' : 'normal',\n",
    "        'weight' : 'bold',\n",
    "        'size'   : 22}\n",
    "\n",
    "matplotlib.rc('font', **font)\n",
    "plt.figure(figsize=(20,10))\n",
    "plt.title(\"Retweet Count Density\")\n",
    "values1 = np.log10(1+df[df.trending==1].retweetCount)\n",
    "values0 = np.log10(1+df[df.trending==0].retweetCount)\n",
    "plt.hist(values1, facecolor='green', alpha=0.5, label=\"Trending\", bins=15, density=True)\n",
    "plt.hist(values0, facecolor='blue', alpha=1.0, label=\"Non Trending\", bins=15, density=True)\n",
    "t_range = np.linspace(-0.01,6,150)\n",
    "kde1 = scipy.stats.gaussian_kde(values1, bw_method=0.5)\n",
    "kde0 = scipy.stats.gaussian_kde(values0, bw_method=0.15)\n",
    "pdf1 = kde1(t_range)\n",
    "pdf0 = kde1(t_range)\n",
    "\n",
    "plt.plot(t_range,kde1(t_range),lw=5, color='green')\n",
    "plt.plot(t_range,kde0(t_range),lw=5, color=\"red\")\n",
    "plt.xlabel(r\"log(RetweetCount)\")\n",
    "plt.legend()\n"
   ]
  },
  {
   "cell_type": "code",
   "execution_count": 9,
   "metadata": {
    "colab": {
     "base_uri": "https://localhost:8080/",
     "height": 671
    },
    "id": "m_ZBn2SsQEZa",
    "outputId": "0a9dfe7d-6d2a-4b62-f411-781940288590"
   },
   "outputs": [
    {
     "data": {
      "text/plain": [
       "<matplotlib.legend.Legend at 0x7f56e3636940>"
      ]
     },
     "execution_count": 9,
     "metadata": {},
     "output_type": "execute_result"
    },
    {
     "data": {
      "image/png": "[encoded data removed]",
      "text/plain": [
       "<Figure size 1440x720 with 1 Axes>"
      ]
     },
     "metadata": {
      "needs_background": "light"
     },
     "output_type": "display_data"
    }
   ],
   "source": [
    "matplotlib.rc('font', **font)\n",
    "plt.figure(figsize=(20,10))\n",
    "plt.title(\"Followers Count Density\")\n",
    "values1 = np.log10(1+df[df.trending==1].userFollowersCount)\n",
    "values0 = np.log10(1+df[df.trending==0].userFollowersCount)\n",
    "plt.hist(values1, facecolor='green', alpha=0.5, label=\"Trending\", bins=15, density=True)\n",
    "plt.hist(values0, facecolor='blue', alpha=1.0, label=\"Non Trending\", bins=15, density=True)\n",
    "t_range = np.linspace(-0.01,9,150)\n",
    "kde1 = scipy.stats.gaussian_kde(values1, bw_method=0.5)\n",
    "kde0 = scipy.stats.gaussian_kde(values0, bw_method=0.3)\n",
    "pdf1 = kde1(t_range[t_range>2])\n",
    "pdf0 = kde0(t_range[t_range<6.5])\n",
    "\n",
    "plt.plot(t_range[t_range>2],pdf1,lw=5, color='green')\n",
    "plt.plot(t_range[t_range<6.5],pdf0,lw=5, color=\"red\")\n",
    "plt.xlabel(r\"log(FollowersCount)\")\n",
    "plt.legend()\n"
   ]
  },
  {
   "cell_type": "markdown",
   "metadata": {
    "id": "RZ6QaXT0QHTc"
   },
   "source": [
    "# Classifier training\n",
    "## Data formatting"
   ]
  },
  {
   "cell_type": "code",
   "execution_count": 10,
   "metadata": {
    "id": "4C1GvkePBXyl"
   },
   "outputs": [],
   "source": [
    "# Indices of non-trending tweets\n",
    "non_trending = np.where(df.trending==0)[0]\n",
    "# Indices of trending tweets\n",
    "trending = np.where(df.trending==1)[0]\n",
    "# We sample a number of random non-trending tweets equal to the number of trending tweets\n",
    "non_trending = np.random.choice(non_trending, len(trending), replace=False)\n",
    "# the indices to keep\n",
    "indices = np.concatenate([trending,non_trending])\n",
    "# final dataset with equal number of trending and non trending tweets\n",
    "df = df.iloc[indices]"
   ]
  },
  {
   "cell_type": "code",
   "execution_count": 11,
   "metadata": {
    "colab": {
     "base_uri": "https://localhost:8080/",
     "height": 226
    },
    "id": "WyihAoUABfzZ",
    "outputId": "3d086d53-409b-45bc-d46b-06e668de0394"
   },
   "outputs": [
    {
     "data": {
      "text/html": [
       "<div>\n",
       "<style scoped>\n",
       "    .dataframe tbody tr th:only-of-type {\n",
       "        vertical-align: middle;\n",
       "    }\n",
       "\n",
       "    .dataframe tbody tr th {\n",
       "        vertical-align: top;\n",
       "    }\n",
       "\n",
       "    .dataframe thead th {\n",
       "        text-align: right;\n",
       "    }\n",
       "</style>\n",
       "<table border=\"1\" class=\"dataframe\">\n",
       "  <thead>\n",
       "    <tr style=\"text-align: right;\">\n",
       "      <th></th>\n",
       "      <th>retweetCount</th>\n",
       "      <th>likeCount</th>\n",
       "      <th>isQuote</th>\n",
       "      <th>source</th>\n",
       "      <th>userFollowersCount</th>\n",
       "      <th>userVerified</th>\n",
       "      <th>userProtected</th>\n",
       "      <th>userFriendsCount</th>\n",
       "      <th>userStatusesCount</th>\n",
       "      <th>userListedCount</th>\n",
       "      <th>...</th>\n",
       "      <th>feat_1</th>\n",
       "      <th>feat_2</th>\n",
       "      <th>feat_3</th>\n",
       "      <th>feat_4</th>\n",
       "      <th>flair_sentiment</th>\n",
       "      <th>flair_fast_sentiment</th>\n",
       "      <th>polarity</th>\n",
       "      <th>polarity_positive</th>\n",
       "      <th>polarity_negative</th>\n",
       "      <th>polarity_compound</th>\n",
       "    </tr>\n",
       "  </thead>\n",
       "  <tbody>\n",
       "    <tr>\n",
       "      <th>0</th>\n",
       "      <td>2999.0</td>\n",
       "      <td>12112.0</td>\n",
       "      <td>1.0</td>\n",
       "      <td>3.0</td>\n",
       "      <td>505260.0</td>\n",
       "      <td>1.0</td>\n",
       "      <td>0.0</td>\n",
       "      <td>2430.0</td>\n",
       "      <td>106058.0</td>\n",
       "      <td>5090.0</td>\n",
       "      <td>...</td>\n",
       "      <td>0.003181</td>\n",
       "      <td>0.005748</td>\n",
       "      <td>0.007677</td>\n",
       "      <td>0.008153</td>\n",
       "      <td>-0.988184</td>\n",
       "      <td>-0.613305</td>\n",
       "      <td>-0.30</td>\n",
       "      <td>0.053</td>\n",
       "      <td>0.102</td>\n",
       "      <td>-0.2732</td>\n",
       "    </tr>\n",
       "    <tr>\n",
       "      <th>1</th>\n",
       "      <td>1444.0</td>\n",
       "      <td>4737.0</td>\n",
       "      <td>0.0</td>\n",
       "      <td>3.0</td>\n",
       "      <td>356683.0</td>\n",
       "      <td>1.0</td>\n",
       "      <td>0.0</td>\n",
       "      <td>188732.0</td>\n",
       "      <td>121553.0</td>\n",
       "      <td>2863.0</td>\n",
       "      <td>...</td>\n",
       "      <td>0.000651</td>\n",
       "      <td>0.002455</td>\n",
       "      <td>0.006061</td>\n",
       "      <td>0.015629</td>\n",
       "      <td>-0.608752</td>\n",
       "      <td>-0.940426</td>\n",
       "      <td>0.00</td>\n",
       "      <td>0.125</td>\n",
       "      <td>0.114</td>\n",
       "      <td>-0.1779</td>\n",
       "    </tr>\n",
       "    <tr>\n",
       "      <th>2</th>\n",
       "      <td>1046.0</td>\n",
       "      <td>3310.0</td>\n",
       "      <td>0.0</td>\n",
       "      <td>3.0</td>\n",
       "      <td>66242.0</td>\n",
       "      <td>1.0</td>\n",
       "      <td>0.0</td>\n",
       "      <td>61524.0</td>\n",
       "      <td>217931.0</td>\n",
       "      <td>1303.0</td>\n",
       "      <td>...</td>\n",
       "      <td>0.000726</td>\n",
       "      <td>0.001803</td>\n",
       "      <td>0.003193</td>\n",
       "      <td>0.003481</td>\n",
       "      <td>-0.801528</td>\n",
       "      <td>0.556271</td>\n",
       "      <td>0.15</td>\n",
       "      <td>0.228</td>\n",
       "      <td>0.149</td>\n",
       "      <td>0.3182</td>\n",
       "    </tr>\n",
       "    <tr>\n",
       "      <th>3</th>\n",
       "      <td>716.0</td>\n",
       "      <td>2738.0</td>\n",
       "      <td>0.0</td>\n",
       "      <td>3.0</td>\n",
       "      <td>66242.0</td>\n",
       "      <td>1.0</td>\n",
       "      <td>0.0</td>\n",
       "      <td>61524.0</td>\n",
       "      <td>217931.0</td>\n",
       "      <td>1303.0</td>\n",
       "      <td>...</td>\n",
       "      <td>0.033437</td>\n",
       "      <td>0.051170</td>\n",
       "      <td>0.051183</td>\n",
       "      <td>0.082353</td>\n",
       "      <td>0.593407</td>\n",
       "      <td>0.632129</td>\n",
       "      <td>0.05</td>\n",
       "      <td>0.000</td>\n",
       "      <td>0.000</td>\n",
       "      <td>0.0000</td>\n",
       "    </tr>\n",
       "    <tr>\n",
       "      <th>4</th>\n",
       "      <td>77.0</td>\n",
       "      <td>405.0</td>\n",
       "      <td>0.0</td>\n",
       "      <td>3.0</td>\n",
       "      <td>110686.0</td>\n",
       "      <td>1.0</td>\n",
       "      <td>0.0</td>\n",
       "      <td>976.0</td>\n",
       "      <td>75142.0</td>\n",
       "      <td>509.0</td>\n",
       "      <td>...</td>\n",
       "      <td>0.002830</td>\n",
       "      <td>0.004821</td>\n",
       "      <td>0.005748</td>\n",
       "      <td>0.014277</td>\n",
       "      <td>-0.998076</td>\n",
       "      <td>0.528218</td>\n",
       "      <td>0.45</td>\n",
       "      <td>0.173</td>\n",
       "      <td>0.000</td>\n",
       "      <td>0.5267</td>\n",
       "    </tr>\n",
       "  </tbody>\n",
       "</table>\n",
       "<p>5 rows × 23 columns</p>\n",
       "</div>"
      ],
      "text/plain": [
       "   retweetCount  likeCount  isQuote  source  userFollowersCount  userVerified  \\\n",
       "0        2999.0    12112.0      1.0     3.0            505260.0           1.0   \n",
       "1        1444.0     4737.0      0.0     3.0            356683.0           1.0   \n",
       "2        1046.0     3310.0      0.0     3.0             66242.0           1.0   \n",
       "3         716.0     2738.0      0.0     3.0             66242.0           1.0   \n",
       "4          77.0      405.0      0.0     3.0            110686.0           1.0   \n",
       "\n",
       "   userProtected  userFriendsCount  userStatusesCount  userListedCount  ...  \\\n",
       "0            0.0            2430.0           106058.0           5090.0  ...   \n",
       "1            0.0          188732.0           121553.0           2863.0  ...   \n",
       "2            0.0           61524.0           217931.0           1303.0  ...   \n",
       "3            0.0           61524.0           217931.0           1303.0  ...   \n",
       "4            0.0             976.0            75142.0            509.0  ...   \n",
       "\n",
       "     feat_1    feat_2    feat_3    feat_4  flair_sentiment  \\\n",
       "0  0.003181  0.005748  0.007677  0.008153        -0.988184   \n",
       "1  0.000651  0.002455  0.006061  0.015629        -0.608752   \n",
       "2  0.000726  0.001803  0.003193  0.003481        -0.801528   \n",
       "3  0.033437  0.051170  0.051183  0.082353         0.593407   \n",
       "4  0.002830  0.004821  0.005748  0.014277        -0.998076   \n",
       "\n",
       "   flair_fast_sentiment  polarity  polarity_positive  polarity_negative  \\\n",
       "0             -0.613305     -0.30              0.053              0.102   \n",
       "1             -0.940426      0.00              0.125              0.114   \n",
       "2              0.556271      0.15              0.228              0.149   \n",
       "3              0.632129      0.05              0.000              0.000   \n",
       "4              0.528218      0.45              0.173              0.000   \n",
       "\n",
       "   polarity_compound  \n",
       "0            -0.2732  \n",
       "1            -0.1779  \n",
       "2             0.3182  \n",
       "3             0.0000  \n",
       "4             0.5267  \n",
       "\n",
       "[5 rows x 23 columns]"
      ]
     },
     "execution_count": 11,
     "metadata": {},
     "output_type": "execute_result"
    }
   ],
   "source": [
    "# We transform categorical sources to integers\n",
    "df.source = df.source.map({\"UNKNOWN\":0,\"ANDROID\":1,\"IPHONE\":2,\"WEB\":3})\n",
    "# we drop text and userId\n",
    "df.drop(['text', 'userId'],axis=1, inplace=True)\n",
    "# Tranform booleans to binaries\n",
    "df = df*1.0\n",
    "df.head()"
   ]
  },
  {
   "cell_type": "code",
   "execution_count": 12,
   "metadata": {
    "id": "AV7wWhakBnc0"
   },
   "outputs": [],
   "source": [
    "from sklearn.linear_model import LogisticRegression\n",
    "from sklearn.preprocessing import StandardScaler\n",
    "from sklearn.model_selection import train_test_split\n",
    "from sklearn.ensemble import RandomForestClassifier\n",
    "from IPython.display import display, Markdown\n"
   ]
  },
  {
   "cell_type": "code",
   "execution_count": 13,
   "metadata": {
    "id": "D8wRExfWBpZq"
   },
   "outputs": [],
   "source": [
    "def train_classifier(train_attrb):\n",
    "  # trains Random Forest Classifier \n",
    "  f1_runs = []\n",
    "  acc_runs = []\n",
    "  for _ in range(10):\n",
    "    scaler = StandardScaler()\n",
    "    randfor = RandomForestClassifier(n_estimators=200, criterion=\"entropy\")\n",
    "\n",
    "\n",
    "\n",
    "    train_x = scaler.fit_transform(df[train_attrb])\n",
    "    X_train, X_test, y_train, y_test = train_test_split(train_x, df.trending,\n",
    "                                                        test_size=0.33, random_state=42)\n",
    "    randfor.fit(X_train, y_train)\n",
    "    from sklearn.metrics import roc_auc_score, f1_score\n",
    "    #y_proba = logreg.predict_proba(X_test)\n",
    "    #print(\"ROC AUC\", roc_auc_score(np.eye(2)[np.array(y_test).astype(int)],y_proba))\n",
    "    #y_test_pred = logreg.predict(X_test)\n",
    "    #print(\"F1 score %f\"%f1_score(y_test, y_test_pred))\n",
    "\n",
    "    y_proba = randfor.predict_proba(X_test)\n",
    "    #print(\"ROC AUC\", roc_auc_score(np.eye(2)[np.array(y_test).astype(int)],y_proba))\n",
    "    y_test_pred = randfor.predict(X_test)\n",
    "    f1_runs.append(f1_score(y_test, y_test_pred))\n",
    "    acc_runs.append(randfor.score(X_test,y_test))\n",
    "    #target_attrb = ['retweetCount', 'likeCount', 'trending']\n",
    "    #logreg = LogisticRegression()\n",
    "\n",
    "  display(Markdown(rf\"F1 score : %.3f $\\pm$ %.3f\"%(np.mean(f1_runs),np.std(f1_runs))))\n",
    "  display(Markdown(rf\"Accuracy : %.2f $\\pm$ %.2f\"%(np.mean(acc_runs)*100,100*np.std(acc_runs))))"
   ]
  },
  {
   "cell_type": "code",
   "execution_count": 14,
   "metadata": {
    "colab": {
     "base_uri": "https://localhost:8080/",
     "height": 96
    },
    "id": "U-1JhTpwCpIj",
    "outputId": "acd3abb7-9272-48db-8d0f-e97e5e371eca"
   },
   "outputs": [
    {
     "name": "stdout",
     "output_type": "stream",
     "text": [
      "Bigrams Attributes:\n"
     ]
    },
    {
     "data": {
      "text/markdown": [
       "F1 score : 0.620 $\\pm$ 0.008"
      ],
      "text/plain": [
       "<IPython.core.display.Markdown object>"
      ]
     },
     "metadata": {},
     "output_type": "display_data"
    },
    {
     "data": {
      "text/markdown": [
       "Accuracy : 61.19 $\\pm$ 0.66"
      ],
      "text/plain": [
       "<IPython.core.display.Markdown object>"
      ]
     },
     "metadata": {},
     "output_type": "display_data"
    }
   ],
   "source": [
    "train_attrb = ['feat_0', 'feat_1', 'feat_2', 'feat_3', 'feat_4']\n",
    "print(\"Bigrams Attributes:\")\n",
    "train_classifier(train_attrb)\n"
   ]
  },
  {
   "cell_type": "code",
   "execution_count": 15,
   "metadata": {
    "colab": {
     "base_uri": "https://localhost:8080/",
     "height": 96
    },
    "id": "WR3w1YGYBv5i",
    "outputId": "96855608-42a9-4b9b-a5a1-927fe40ce761"
   },
   "outputs": [
    {
     "name": "stdout",
     "output_type": "stream",
     "text": [
      "Sentiement Attributes:\n"
     ]
    },
    {
     "data": {
      "text/markdown": [
       "F1 score : 0.599 $\\pm$ 0.006"
      ],
      "text/plain": [
       "<IPython.core.display.Markdown object>"
      ]
     },
     "metadata": {},
     "output_type": "display_data"
    },
    {
     "data": {
      "text/markdown": [
       "Accuracy : 59.76 $\\pm$ 0.69"
      ],
      "text/plain": [
       "<IPython.core.display.Markdown object>"
      ]
     },
     "metadata": {},
     "output_type": "display_data"
    }
   ],
   "source": [
    "train_attrb = [\n",
    "      #'isQuote',\n",
    "      #'source',\n",
    "      #'userFollowersCount',\n",
    "      #'userVerified',\n",
    "      #'userProtected',\n",
    "      #'userFriendsCount',\n",
    "      #'userStatusesCount', \n",
    "      #'userListedCount', \n",
    "      #'userOnTwitter(Months)',\n",
    "      #'feat_0', 'feat_1', 'feat_2', 'feat_3', 'feat_4',\n",
    "      'flair_sentiment', 'flair_fast_sentiment', 'polarity',\n",
    "      'polarity_positive', 'polarity_negative', 'polarity_compound'\n",
    "      ]\n",
    "print(\"Sentiement Attributes:\")\n",
    "train_classifier(train_attrb)"
   ]
  },
  {
   "cell_type": "code",
   "execution_count": 16,
   "metadata": {
    "colab": {
     "base_uri": "https://localhost:8080/",
     "height": 96
    },
    "id": "ZgtQV_AgBxPL",
    "outputId": "47121539-ef90-4423-c98f-0da1a4e9cea1"
   },
   "outputs": [
    {
     "name": "stdout",
     "output_type": "stream",
     "text": [
      "Sentiment and Bigram Attributes:\n"
     ]
    },
    {
     "data": {
      "text/markdown": [
       "F1 score : 0.621 $\\pm$ 0.006"
      ],
      "text/plain": [
       "<IPython.core.display.Markdown object>"
      ]
     },
     "metadata": {},
     "output_type": "display_data"
    },
    {
     "data": {
      "text/markdown": [
       "Accuracy : 61.42 $\\pm$ 0.43"
      ],
      "text/plain": [
       "<IPython.core.display.Markdown object>"
      ]
     },
     "metadata": {},
     "output_type": "display_data"
    }
   ],
   "source": [
    "train_attrb = ['feat_0', 'feat_1', 'feat_2', 'feat_3', 'feat_4',\n",
    "      'flair_sentiment', 'flair_fast_sentiment', 'polarity',\n",
    "      'polarity_positive', 'polarity_negative', 'polarity_compound'\n",
    "      ]\n",
    "print(\"Sentiment and Bigram Attributes:\")\n",
    "train_classifier(train_attrb)\n"
   ]
  },
  {
   "cell_type": "code",
   "execution_count": 17,
   "metadata": {
    "colab": {
     "base_uri": "https://localhost:8080/",
     "height": 96
    },
    "id": "_cX6QnnVCBLS",
    "outputId": "7e4c5ab5-5820-45a7-bac6-2736337ee4b4"
   },
   "outputs": [
    {
     "name": "stdout",
     "output_type": "stream",
     "text": [
      "Sentiment, Bigram, and Tweet Context Attributes:\n"
     ]
    },
    {
     "data": {
      "text/markdown": [
       "F1 score : 0.749 $\\pm$ 0.005"
      ],
      "text/plain": [
       "<IPython.core.display.Markdown object>"
      ]
     },
     "metadata": {},
     "output_type": "display_data"
    },
    {
     "data": {
      "text/markdown": [
       "Accuracy : 74.31 $\\pm$ 0.50"
      ],
      "text/plain": [
       "<IPython.core.display.Markdown object>"
      ]
     },
     "metadata": {},
     "output_type": "display_data"
    }
   ],
   "source": [
    "train_attrb = [\n",
    "      'isQuote',\n",
    "      'source',\n",
    "      'feat_0', 'feat_1', 'feat_2', 'feat_3', 'feat_4',\n",
    "      'flair_sentiment', 'flair_fast_sentiment', 'polarity',\n",
    "      'polarity_positive', 'polarity_negative', 'polarity_compound'\n",
    "      ]\n",
    "print(\"Sentiment, Bigram, and Tweet Context Attributes:\")\n",
    "train_classifier(train_attrb)"
   ]
  },
  {
   "cell_type": "code",
   "execution_count": 18,
   "metadata": {
    "colab": {
     "base_uri": "https://localhost:8080/",
     "height": 96
    },
    "id": "SfVwFEtxCili",
    "outputId": "7d157e8a-69f9-4fe5-d10f-284d4e0f455f"
   },
   "outputs": [
    {
     "name": "stdout",
     "output_type": "stream",
     "text": [
      "All Attributes:\n"
     ]
    },
    {
     "data": {
      "text/markdown": [
       "F1 score : 0.812 $\\pm$ 0.005"
      ],
      "text/plain": [
       "<IPython.core.display.Markdown object>"
      ]
     },
     "metadata": {},
     "output_type": "display_data"
    },
    {
     "data": {
      "text/markdown": [
       "Accuracy : 80.79 $\\pm$ 0.51"
      ],
      "text/plain": [
       "<IPython.core.display.Markdown object>"
      ]
     },
     "metadata": {},
     "output_type": "display_data"
    }
   ],
   "source": [
    "train_attrb = [\n",
    "      'isQuote',\n",
    "      'source',\n",
    "      'userStatusesCount',  \n",
    "      'userOnTwitter(Months)',\n",
    "      'feat_0', 'feat_1', 'feat_2', 'feat_3', 'feat_4',\n",
    "      'flair_sentiment', 'flair_fast_sentiment', 'polarity',\n",
    "      'polarity_positive', 'polarity_negative', 'polarity_compound'\n",
    "      ]\n",
    "print(\"All Attributes:\")\n",
    "train_classifier(train_attrb)"
   ]
  },
  {
   "cell_type": "code",
   "execution_count": 19,
   "metadata": {
    "colab": {
     "base_uri": "https://localhost:8080/",
     "height": 96
    },
    "id": "lKvgNz0BCnav",
    "outputId": "da067f95-1a31-49a6-c478-f1a9e806968d"
   },
   "outputs": [
    {
     "name": "stdout",
     "output_type": "stream",
     "text": [
      "Attributes with label leaked \n"
     ]
    },
    {
     "data": {
      "text/markdown": [
       "F1 score : 0.993 $\\pm$ 0.000"
      ],
      "text/plain": [
       "<IPython.core.display.Markdown object>"
      ]
     },
     "metadata": {},
     "output_type": "display_data"
    },
    {
     "data": {
      "text/markdown": [
       "Accuracy : 99.26 $\\pm$ 0.00"
      ],
      "text/plain": [
       "<IPython.core.display.Markdown object>"
      ]
     },
     "metadata": {},
     "output_type": "display_data"
    }
   ],
   "source": [
    "train_attrb = [\n",
    "      'isQuote',\n",
    "      'source',\n",
    "      'userFollowersCount',\n",
    "      'userVerified',\n",
    "      #'userProtected',\n",
    "      #'userFriendsCount',\n",
    "      'userStatusesCount', \n",
    "      'userListedCount', \n",
    "      'userOnTwitter(Months)',\n",
    "      'feat_0', 'feat_1', 'feat_2', 'feat_3', 'feat_4',\n",
    "      'flair_sentiment', 'flair_fast_sentiment', 'polarity',\n",
    "      'polarity_positive', 'polarity_negative', 'polarity_compound'\n",
    "      ]\n",
    "print(\"Attributes with label leaked \")\n",
    "train_classifier(train_attrb)"
   ]
  },
  {
   "cell_type": "code",
   "execution_count": null,
   "metadata": {
    "id": "YCFEn55FsemW"
   },
   "outputs": [],
   "source": []
  }
 ],
 "metadata": {
  "colab": {
   "name": "LogReg",
   "provenance": []
  },
  "kernelspec": {
   "display_name": "Python 3",
   "language": "python",
   "name": "python3"
  },
  "language_info": {
   "codemirror_mode": {
    "name": "ipython",
    "version": 3
   },
   "file_extension": ".py",
   "mimetype": "text/x-python",
   "name": "python",
   "nbconvert_exporter": "python",
   "pygments_lexer": "ipython3",
   "version": "3.9.0"
  }
 },
 "nbformat": 4,
 "nbformat_minor": 1
}
