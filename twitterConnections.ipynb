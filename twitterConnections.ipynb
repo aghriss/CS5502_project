{
 "cells": [
  {
   "cell_type": "code",
   "execution_count": 110,
   "metadata": {},
   "outputs": [],
   "source": [
    "#packages\n",
    "import tweepy\n",
    "import json"
   ]
  },
  {
   "cell_type": "code",
   "execution_count": 111,
   "metadata": {},
   "outputs": [],
   "source": [
    "# Load credentials from json file\n",
    "with open(\"twitter_credentials.json\", \"r\") as file:\n",
    "    creds = json.load(file)"
   ]
  },
  {
   "cell_type": "code",
   "execution_count": 123,
   "metadata": {},
   "outputs": [
    {
     "name": "stdout",
     "output_type": "stream",
     "text": [
      "Status(_api=<tweepy.api.API object at 0x000002963A325780>, _json={'created_at': 'Sun Feb 25 18:11:01 +0000 2018', 'id': 967824267948773377, 'id_str': '967824267948773377', 'text': 'From pilot to astronaut, Robert H. Lawrence was the first African-American to be selected as an astronaut by any na… https://t.co/FjPEWnh804', 'truncated': True, 'entities': {'hashtags': [], 'symbols': [], 'user_mentions': [], 'urls': [{'url': 'https://t.co/FjPEWnh804', 'expanded_url': 'https://twitter.com/i/web/status/967824267948773377', 'display_url': 'twitter.com/i/web/status/9…', 'indices': [117, 140]}]}, 'source': '<a href=\"https://www.sprinklr.com\" rel=\"nofollow\">Sprinklr</a>', 'in_reply_to_status_id': None, 'in_reply_to_status_id_str': None, 'in_reply_to_user_id': None, 'in_reply_to_user_id_str': None, 'in_reply_to_screen_name': None, 'user': {'id': 11348282, 'id_str': '11348282', 'name': 'NASA', 'screen_name': 'NASA', 'location': '', 'description': 'Explore the universe and our home planet with NASA 🌎 We usually post in EDT.', 'url': 'https://t.co/HMJJbimQpV', 'entities': {'url': {'urls': [{'url': 'https://t.co/HMJJbimQpV', 'expanded_url': 'http://www.nasa.gov/', 'display_url': 'nasa.gov', 'indices': [0, 23]}]}, 'description': {'urls': []}}, 'protected': False, 'followers_count': 41216557, 'friends_count': 223, 'listed_count': 93051, 'created_at': 'Wed Dec 19 20:20:32 +0000 2007', 'favourites_count': 12079, 'utc_offset': None, 'time_zone': None, 'geo_enabled': False, 'verified': True, 'statuses_count': 62667, 'lang': None, 'contributors_enabled': False, 'is_translator': False, 'is_translation_enabled': False, 'profile_background_color': '000000', 'profile_background_image_url': 'http://abs.twimg.com/images/themes/theme1/bg.png', 'profile_background_image_url_https': 'https://abs.twimg.com/images/themes/theme1/bg.png', 'profile_background_tile': False, 'profile_image_url': 'http://pbs.twimg.com/profile_images/1091070803184177153/TI2qItoi_normal.jpg', 'profile_image_url_https': 'https://pbs.twimg.com/profile_images/1091070803184177153/TI2qItoi_normal.jpg', 'profile_banner_url': 'https://pbs.twimg.com/profile_banners/11348282/1602697456', 'profile_image_extensions_alt_text': None, 'profile_banner_extensions_alt_text': None, 'profile_link_color': '205BA7', 'profile_sidebar_border_color': '000000', 'profile_sidebar_fill_color': 'F3F2F2', 'profile_text_color': '000000', 'profile_use_background_image': True, 'has_extended_profile': True, 'default_profile': False, 'default_profile_image': False, 'following': None, 'follow_request_sent': None, 'notifications': None, 'translator_type': 'regular'}, 'geo': None, 'coordinates': None, 'place': None, 'contributors': None, 'is_quote_status': False, 'retweet_count': 913, 'favorite_count': 3636, 'favorited': False, 'retweeted': False, 'possibly_sensitive': False, 'possibly_sensitive_appealable': False, 'lang': 'en'}, created_at=datetime.datetime(2018, 2, 25, 18, 11, 1), id=967824267948773377, id_str='967824267948773377', text='From pilot to astronaut, Robert H. Lawrence was the first African-American to be selected as an astronaut by any na… https://t.co/FjPEWnh804', truncated=True, entities={'hashtags': [], 'symbols': [], 'user_mentions': [], 'urls': [{'url': 'https://t.co/FjPEWnh804', 'expanded_url': 'https://twitter.com/i/web/status/967824267948773377', 'display_url': 'twitter.com/i/web/status/9…', 'indices': [117, 140]}]}, source='Sprinklr', source_url='https://www.sprinklr.com', in_reply_to_status_id=None, in_reply_to_status_id_str=None, in_reply_to_user_id=None, in_reply_to_user_id_str=None, in_reply_to_screen_name=None, author=User(_api=<tweepy.api.API object at 0x000002963A325780>, _json={'id': 11348282, 'id_str': '11348282', 'name': 'NASA', 'screen_name': 'NASA', 'location': '', 'description': 'Explore the universe and our home planet with NASA 🌎 We usually post in EDT.', 'url': 'https://t.co/HMJJbimQpV', 'entities': {'url': {'urls': [{'url': 'https://t.co/HMJJbimQpV', 'expanded_url': 'http://www.nasa.gov/', 'display_url': 'nasa.gov', 'indices': [0, 23]}]}, 'description': {'urls': []}}, 'protected': False, 'followers_count': 41216557, 'friends_count': 223, 'listed_count': 93051, 'created_at': 'Wed Dec 19 20:20:32 +0000 2007', 'favourites_count': 12079, 'utc_offset': None, 'time_zone': None, 'geo_enabled': False, 'verified': True, 'statuses_count': 62667, 'lang': None, 'contributors_enabled': False, 'is_translator': False, 'is_translation_enabled': False, 'profile_background_color': '000000', 'profile_background_image_url': 'http://abs.twimg.com/images/themes/theme1/bg.png', 'profile_background_image_url_https': 'https://abs.twimg.com/images/themes/theme1/bg.png', 'profile_background_tile': False, 'profile_image_url': 'http://pbs.twimg.com/profile_images/1091070803184177153/TI2qItoi_normal.jpg', 'profile_image_url_https': 'https://pbs.twimg.com/profile_images/1091070803184177153/TI2qItoi_normal.jpg', 'profile_banner_url': 'https://pbs.twimg.com/profile_banners/11348282/1602697456', 'profile_image_extensions_alt_text': None, 'profile_banner_extensions_alt_text': None, 'profile_link_color': '205BA7', 'profile_sidebar_border_color': '000000', 'profile_sidebar_fill_color': 'F3F2F2', 'profile_text_color': '000000', 'profile_use_background_image': True, 'has_extended_profile': True, 'default_profile': False, 'default_profile_image': False, 'following': None, 'follow_request_sent': None, 'notifications': None, 'translator_type': 'regular'}, id=11348282, id_str='11348282', name='NASA', screen_name='NASA', location='', description='Explore the universe and our home planet with NASA 🌎 We usually post in EDT.', url='https://t.co/HMJJbimQpV', entities={'url': {'urls': [{'url': 'https://t.co/HMJJbimQpV', 'expanded_url': 'http://www.nasa.gov/', 'display_url': 'nasa.gov', 'indices': [0, 23]}]}, 'description': {'urls': []}}, protected=False, followers_count=41216557, friends_count=223, listed_count=93051, created_at=datetime.datetime(2007, 12, 19, 20, 20, 32), favourites_count=12079, utc_offset=None, time_zone=None, geo_enabled=False, verified=True, statuses_count=62667, lang=None, contributors_enabled=False, is_translator=False, is_translation_enabled=False, profile_background_color='000000', profile_background_image_url='http://abs.twimg.com/images/themes/theme1/bg.png', profile_background_image_url_https='https://abs.twimg.com/images/themes/theme1/bg.png', profile_background_tile=False, profile_image_url='http://pbs.twimg.com/profile_images/1091070803184177153/TI2qItoi_normal.jpg', profile_image_url_https='https://pbs.twimg.com/profile_images/1091070803184177153/TI2qItoi_normal.jpg', profile_banner_url='https://pbs.twimg.com/profile_banners/11348282/1602697456', profile_image_extensions_alt_text=None, profile_banner_extensions_alt_text=None, profile_link_color='205BA7', profile_sidebar_border_color='000000', profile_sidebar_fill_color='F3F2F2', profile_text_color='000000', profile_use_background_image=True, has_extended_profile=True, default_profile=False, default_profile_image=False, following=False, follow_request_sent=None, notifications=None, translator_type='regular'), user=User(_api=<tweepy.api.API object at 0x000002963A325780>, _json={'id': 11348282, 'id_str': '11348282', 'name': 'NASA', 'screen_name': 'NASA', 'location': '', 'description': 'Explore the universe and our home planet with NASA 🌎 We usually post in EDT.', 'url': 'https://t.co/HMJJbimQpV', 'entities': {'url': {'urls': [{'url': 'https://t.co/HMJJbimQpV', 'expanded_url': 'http://www.nasa.gov/', 'display_url': 'nasa.gov', 'indices': [0, 23]}]}, 'description': {'urls': []}}, 'protected': False, 'followers_count': 41216557, 'friends_count': 223, 'listed_count': 93051, 'created_at': 'Wed Dec 19 20:20:32 +0000 2007', 'favourites_count': 12079, 'utc_offset': None, 'time_zone': None, 'geo_enabled': False, 'verified': True, 'statuses_count': 62667, 'lang': None, 'contributors_enabled': False, 'is_translator': False, 'is_translation_enabled': False, 'profile_background_color': '000000', 'profile_background_image_url': 'http://abs.twimg.com/images/themes/theme1/bg.png', 'profile_background_image_url_https': 'https://abs.twimg.com/images/themes/theme1/bg.png', 'profile_background_tile': False, 'profile_image_url': 'http://pbs.twimg.com/profile_images/1091070803184177153/TI2qItoi_normal.jpg', 'profile_image_url_https': 'https://pbs.twimg.com/profile_images/1091070803184177153/TI2qItoi_normal.jpg', 'profile_banner_url': 'https://pbs.twimg.com/profile_banners/11348282/1602697456', 'profile_image_extensions_alt_text': None, 'profile_banner_extensions_alt_text': None, 'profile_link_color': '205BA7', 'profile_sidebar_border_color': '000000', 'profile_sidebar_fill_color': 'F3F2F2', 'profile_text_color': '000000', 'profile_use_background_image': True, 'has_extended_profile': True, 'default_profile': False, 'default_profile_image': False, 'following': None, 'follow_request_sent': None, 'notifications': None, 'translator_type': 'regular'}, id=11348282, id_str='11348282', name='NASA', screen_name='NASA', location='', description='Explore the universe and our home planet with NASA 🌎 We usually post in EDT.', url='https://t.co/HMJJbimQpV', entities={'url': {'urls': [{'url': 'https://t.co/HMJJbimQpV', 'expanded_url': 'http://www.nasa.gov/', 'display_url': 'nasa.gov', 'indices': [0, 23]}]}, 'description': {'urls': []}}, protected=False, followers_count=41216557, friends_count=223, listed_count=93051, created_at=datetime.datetime(2007, 12, 19, 20, 20, 32), favourites_count=12079, utc_offset=None, time_zone=None, geo_enabled=False, verified=True, statuses_count=62667, lang=None, contributors_enabled=False, is_translator=False, is_translation_enabled=False, profile_background_color='000000', profile_background_image_url='http://abs.twimg.com/images/themes/theme1/bg.png', profile_background_image_url_https='https://abs.twimg.com/images/themes/theme1/bg.png', profile_background_tile=False, profile_image_url='http://pbs.twimg.com/profile_images/1091070803184177153/TI2qItoi_normal.jpg', profile_image_url_https='https://pbs.twimg.com/profile_images/1091070803184177153/TI2qItoi_normal.jpg', profile_banner_url='https://pbs.twimg.com/profile_banners/11348282/1602697456', profile_image_extensions_alt_text=None, profile_banner_extensions_alt_text=None, profile_link_color='205BA7', profile_sidebar_border_color='000000', profile_sidebar_fill_color='F3F2F2', profile_text_color='000000', profile_use_background_image=True, has_extended_profile=True, default_profile=False, default_profile_image=False, following=False, follow_request_sent=None, notifications=None, translator_type='regular'), geo=None, coordinates=None, place=None, contributors=None, is_quote_status=False, retweet_count=913, favorite_count=3636, favorited=False, retweeted=False, possibly_sensitive=False, possibly_sensitive_appealable=False, lang='en')\n"
     ]
    }
   ],
   "source": [
    "#initiate auth object\n",
    "auth = tweepy.AppAuthHandler(creds['API_KEY'], creds['SECRET_KEY'])\n",
    "api = tweepy.API(auth)\n",
    "\n",
    "#Get tweet data by tweet_id \n",
    "tweet = api.get_status(\"967824267948773377\", include_entities=\"true\", include_ext_alt_text=\"true\")\n",
    "print(tweet)"
   ]
  },
  {
   "cell_type": "code",
   "execution_count": 129,
   "metadata": {},
   "outputs": [
    {
     "name": "stdout",
     "output_type": "stream",
     "text": [
      "Tweet Attributes:\n",
      "tweet created at: 2018-02-25 18:11:01\n",
      "tweet text: From pilot to astronaut, Robert H. Lawrence was the first African-American to be selected as an astronaut by any na… https://t.co/FjPEWnh804\n",
      "tweet text truncated: True\n",
      "tweet retweet count: 913\n",
      "tweet fav. count: 3636\n",
      "tweet is quote: False\n",
      "tweet source: Sprinklr\n",
      "Is tweet possibly sensitive: False\n",
      "tweet place: None\n",
      "tweet geo: None\n",
      "tweet language: en\n",
      "Is this a retweet: False\n",
      "tweet contributors: None\n",
      "tweet coordinates: None\n",
      "entities: {'hashtags': [], 'symbols': [], 'user_mentions': [], 'urls': [{'url': 'https://t.co/FjPEWnh804', 'expanded_url': 'https://twitter.com/i/web/status/967824267948773377', 'display_url': 'twitter.com/i/web/status/9…', 'indices': [117, 140]}]}\n",
      "hastags: []\n",
      "users taged/ mentioned: []\n",
      "url in tweet: [{'url': 'https://t.co/FjPEWnh804', 'expanded_url': 'https://twitter.com/i/web/status/967824267948773377', 'display_url': 'twitter.com/i/web/status/9…', 'indices': [117, 140]}]\n",
      "tweet source url https://www.sprinklr.com\n"
     ]
    }
   ],
   "source": [
    "print(\"Tweet Attributes:\")\n",
    "print(\"tweet created at:\",tweet.created_at)\n",
    "print(\"tweet text:\", tweet.text)\n",
    "print(\"tweet text truncated:\", tweet.truncated)\n",
    "print(\"tweet retweet count:\", tweet.retweet_count)\n",
    "print(\"tweet fav. count:\", tweet.favorite_count)\n",
    "print(\"tweet is quote:\", tweet.is_quote_status)\n",
    "print(\"tweet source:\", tweet.source)\n",
    "print(\"Is tweet possibly sensitive:\", tweet.possibly_sensitive)\n",
    "print(\"tweet place:\", tweet.place)\n",
    "print(\"tweet geo:\", tweet.geo)\n",
    "print(\"tweet language:\", tweet.lang)\n",
    "print(\"Is this a retweet:\", tweet.retweeted)\n",
    "print(\"tweet contributors:\", tweet.contributors)\n",
    "print(\"tweet coordinates:\", tweet.coordinates)\n",
    "print(\"entities:\", tweet.entities)\n",
    "print(\"hastags:\",tweet.entities['hashtags'])\n",
    "print(\"users taged/ mentioned:\", tweet.entities['user_mentions'])\n",
    "print(\"url in tweet:\", tweet.entities['urls'])\n",
    "print(\"tweet source url\", tweet.source_url)"
   ]
  },
  {
   "cell_type": "code",
   "execution_count": 130,
   "metadata": {},
   "outputs": [
    {
     "name": "stdout",
     "output_type": "stream",
     "text": [
      "User Attributes:\n",
      "user name: NASA\n",
      "user screen name: NASA\n",
      "user created at: 2007-12-19 20:20:32\n",
      "user followers count: 41216557\n",
      "user description: Explore the universe and our home planet with NASA 🌎 We usually post in EDT.\n",
      "is user verified: True\n",
      "is user protected: False\n",
      "user location: \n",
      "user geo enabled: False\n",
      "user notification: None\n",
      "user friends count: 223\n",
      "user statuses count: 62667\n",
      "user listed count: 93051\n",
      "user utc offset: None\n",
      "user entities: {'url': {'urls': [{'url': 'https://t.co/HMJJbimQpV', 'expanded_url': 'http://www.nasa.gov/', 'display_url': 'nasa.gov', 'indices': [0, 23]}]}, 'description': {'urls': []}}\n"
     ]
    }
   ],
   "source": [
    "print(\"User Attributes:\")\n",
    "print(\"user name:\",tweet.user.name)\n",
    "print(\"user screen name:\",tweet.user.screen_name)\n",
    "print(\"user created at:\", tweet.user.created_at)\n",
    "print(\"user followers count:\", tweet.user.followers_count)\n",
    "print(\"user description:\", tweet.user.description)\n",
    "print(\"is user verified:\", tweet.user.verified)\n",
    "print(\"is user protected:\", tweet.user.protected)\n",
    "print(\"user location:\", tweet.user.location)\n",
    "print(\"user geo enabled:\", tweet.user.geo_enabled)\n",
    "print(\"user notification:\", tweet.user.notifications)\n",
    "print(\"user friends count:\", tweet.user.friends_count)\n",
    "print(\"user statuses count:\", tweet.user.statuses_count)\n",
    "print(\"user listed count:\",tweet.user.listed_count)\n",
    "print(\"user utc offset:\", tweet.user.utc_offset)\n",
    "print(\"user entities:\", tweet.user.entities)"
   ]
  },
  {
   "cell_type": "code",
   "execution_count": 131,
   "metadata": {},
   "outputs": [
    {
     "name": "stdout",
     "output_type": "stream",
     "text": [
      "Topic: Borat url: http://twitter.com/search?q=Borat tweet count: 79942\n",
      "Topic: Pope url: http://twitter.com/search?q=Pope tweet count: 192577\n",
      "Topic: Real Madrid url: http://twitter.com/search?q=%22Real+Madrid%22 tweet count: 110513\n",
      "Topic: #PronounsDay url: http://twitter.com/search?q=%23PronounsDay tweet count: 27694\n",
      "Topic: Mel Brooks url: http://twitter.com/search?q=%22Mel+Brooks%22 tweet count: 18189\n",
      "Topic: #ByeRudy url: http://twitter.com/search?q=%23ByeRudy tweet count: 18067\n",
      "Topic: #EndSarsNow url: http://twitter.com/search?q=%23EndSarsNow tweet count: 308536\n",
      "Topic: Stan Van Gundy url: http://twitter.com/search?q=%22Stan+Van+Gundy%22 tweet count: None\n",
      "Topic: Amtrak url: http://twitter.com/search?q=Amtrak tweet count: 20775\n",
      "Topic: #SelfieBloom url: http://twitter.com/search?q=%23SelfieBloom tweet count: None\n",
      "Topic: Animaniacs url: http://twitter.com/search?q=Animaniacs tweet count: 22488\n",
      "Topic: Shakhtar url: http://twitter.com/search?q=Shakhtar tweet count: 51428\n",
      "Topic: China url: http://twitter.com/search?q=China tweet count: 1373740\n",
      "Topic: Zidane url: http://twitter.com/search?q=Zidane tweet count: 41528\n",
      "Topic: Modric url: http://twitter.com/search?q=Modric tweet count: 17097\n",
      "Topic: Sacha Baron Cohen url: http://twitter.com/search?q=%22Sacha+Baron+Cohen%22 tweet count: None\n",
      "Topic: Purdue Pharma url: http://twitter.com/search?q=%22Purdue+Pharma%22 tweet count: 33641\n",
      "Topic: Varane url: http://twitter.com/search?q=Varane tweet count: 20965\n",
      "Topic: Pelicans url: http://twitter.com/search?q=Pelicans tweet count: None\n",
      "Topic: ariana url: http://twitter.com/search?q=ariana tweet count: 124902\n",
      "Topic: #WednesdayWisdom url: http://twitter.com/search?q=%23WednesdayWisdom tweet count: 35019\n",
      "Topic: Catholic Church url: http://twitter.com/search?q=%22Catholic+Church%22 tweet count: 23473\n",
      "Topic: Jovic url: http://twitter.com/search?q=Jovic tweet count: 18704\n",
      "Topic: Odell url: http://twitter.com/search?q=Odell tweet count: None\n",
      "Topic: Beyoncé url: http://twitter.com/search?q=Beyonc%C3%A9 tweet count: 459896\n",
      "Topic: Ramos url: http://twitter.com/search?q=Ramos tweet count: 61353\n",
      "Topic: Vinicius url: http://twitter.com/search?q=Vinicius tweet count: 35508\n",
      "Topic: Fitz url: http://twitter.com/search?q=Fitz tweet count: 11819\n",
      "Topic: Zion url: http://twitter.com/search?q=Zion tweet count: 14225\n",
      "Topic: NCAA url: http://twitter.com/search?q=NCAA tweet count: 63827\n",
      "Topic: Dave Meyers url: http://twitter.com/search?q=%22Dave+Meyers%22 tweet count: None\n",
      "Topic: Quinton Spain url: http://twitter.com/search?q=%22Quinton+Spain%22 tweet count: None\n",
      "Topic: PayPal url: http://twitter.com/search?q=PayPal tweet count: 143853\n",
      "Topic: Francis url: http://twitter.com/search?q=Francis tweet count: 272674\n",
      "Topic: Jonathan Zimmerman url: http://twitter.com/search?q=%22Jonathan+Zimmerman%22 tweet count: None\n",
      "Topic: #WonderWomanDay url: http://twitter.com/search?q=%23WonderWomanDay tweet count: 11110\n",
      "Topic: #BackToTheFutureDay url: http://twitter.com/search?q=%23BackToTheFutureDay tweet count: 17509\n"
     ]
    }
   ],
   "source": [
    "#Get trends of particular place\n",
    "#WOEID of USA\n",
    "woied = 23424977\n",
    "\n",
    "#Fetch trending tweets\n",
    "trendArray = api.trends_place(woied)  #can add exclude = \"hashtags\" \n",
    "\n",
    "for trends in trendArray:\n",
    "    for trendTopic in trends['trends']:\n",
    "        print(\"Topic:\", trendTopic['name'], \"url:\", trendTopic['url'], \"tweet count:\",trendTopic['tweet_volume'])"
   ]
  },
  {
   "cell_type": "code",
   "execution_count": null,
   "metadata": {},
   "outputs": [],
   "source": []
  }
 ],
 "metadata": {
  "kernelspec": {
   "display_name": "Python 3",
   "language": "python",
   "name": "python3"
  },
  "language_info": {
   "codemirror_mode": {
    "name": "ipython",
    "version": 3
   },
   "file_extension": ".py",
   "mimetype": "text/x-python",
   "name": "python",
   "nbconvert_exporter": "python",
   "pygments_lexer": "ipython3",
   "version": "3.7.3"
  }
 },
 "nbformat": 4,
 "nbformat_minor": 2
}
